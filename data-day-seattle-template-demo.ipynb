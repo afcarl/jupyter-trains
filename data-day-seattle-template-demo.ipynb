{
 "cells": [
  {
   "cell_type": "raw",
   "metadata": {},
   "source": [
    "<script>\n",
    "code_show=true; \n",
    "function code_toggle() {\n",
    " if (code_show){\n",
    " $('div.input').hide();\n",
    " } else {\n",
    " $('div.input').show();\n",
    " }\n",
    " code_show = !code_show\n",
    "} \n",
    "$( document ).ready(code_toggle);\n",
    "</script>\n",
    "<form action=\"javascript:code_toggle()\"><input type=\"submit\" value=\"Click here to toggle on/off the raw code.\"></form>"
   ]
  },
  {
   "cell_type": "raw",
   "metadata": {
    "slideshow": {
     "slide_type": "-"
    }
   },
   "source": [
    "<h1> Template </h1>"
   ]
  },
  {
   "cell_type": "markdown",
   "metadata": {
    "toc": "true"
   },
   "source": [
    "# Table of Contents\n",
    " <p><div class=\"lev1\"><a href=\"#Introduction\"><span class=\"toc-item-num\">1&nbsp;&nbsp;</span>Introduction</a></div><div class=\"lev2\"><a href=\"#Purpose\"><span class=\"toc-item-num\">1.1&nbsp;&nbsp;</span>Purpose</a></div><div class=\"lev2\"><a href=\"#Prior-work/-previous-next-steps\"><span class=\"toc-item-num\">1.2&nbsp;&nbsp;</span>Prior work/ previous next steps</a></div><div class=\"lev2\"><a href=\"#Guiding-questions\"><span class=\"toc-item-num\">1.3&nbsp;&nbsp;</span>Guiding questions</a></div><div class=\"lev2\"><a href=\"#Key-findings\"><span class=\"toc-item-num\">1.4&nbsp;&nbsp;</span>Key findings</a></div><div class=\"lev2\"><a href=\"#Related-notebooks\"><span class=\"toc-item-num\">1.5&nbsp;&nbsp;</span>Related notebooks</a></div><div class=\"lev1\"><a href=\"#Setup\"><span class=\"toc-item-num\">2&nbsp;&nbsp;</span>Setup</a></div><div class=\"lev2\"><a href=\"#Required-packages\"><span class=\"toc-item-num\">2.1&nbsp;&nbsp;</span>Required packages</a></div><div class=\"lev2\"><a href=\"#Data-input\"><span class=\"toc-item-num\">2.2&nbsp;&nbsp;</span>Data input</a></div><div class=\"lev1\"><a href=\"#Analysis\"><span class=\"toc-item-num\">3&nbsp;&nbsp;</span>Analysis</a></div><div class=\"lev1\"><a href=\"#Conclusions\"><span class=\"toc-item-num\">4&nbsp;&nbsp;</span>Conclusions</a></div><div class=\"lev2\"><a href=\"#Key-findings\"><span class=\"toc-item-num\">4.1&nbsp;&nbsp;</span>Key findings</a></div><div class=\"lev2\"><a href=\"#Next-steps\"><span class=\"toc-item-num\">4.2&nbsp;&nbsp;</span>Next steps</a></div>"
   ]
  },
  {
   "cell_type": "markdown",
   "metadata": {},
   "source": [
    "# Introduction"
   ]
  },
  {
   "cell_type": "markdown",
   "metadata": {},
   "source": [
    "## Purpose"
   ]
  },
  {
   "cell_type": "markdown",
   "metadata": {},
   "source": [
    "## Prior work/ previous next steps"
   ]
  },
  {
   "cell_type": "markdown",
   "metadata": {},
   "source": [
    "## Guiding questions\n",
    "* Guiding question 1\n",
    "* Guiding question 2"
   ]
  },
  {
   "cell_type": "markdown",
   "metadata": {},
   "source": [
    "## Key findings\n",
    "* Key finding 1\n",
    "* Key finding 2"
   ]
  },
  {
   "cell_type": "markdown",
   "metadata": {},
   "source": [
    "## Related notebooks\n",
    "\n",
    "* **Copied from:** N/A\n",
    "* **Purpose of copy:** N/A \n",
    "* **Copied to:** N/A\n",
    "* **Purpose of copy:** N/A\n",
    "* **Related notebooks:** N/A"
   ]
  },
  {
   "cell_type": "markdown",
   "metadata": {},
   "source": [
    "<div class=\"alert alert-info\"> Use this box for important points, reminders (blue) </div>"
   ]
  },
  {
   "cell_type": "markdown",
   "metadata": {},
   "source": [
    "<div class=\"alert alert-info\"> Use this box for important points, reminders (blue) </div>"
   ]
  },
  {
   "cell_type": "markdown",
   "metadata": {},
   "source": [
    "<div class=\"alert alert-warning\"> Use this box for important points, reminders (yellow) </div>"
   ]
  },
  {
   "cell_type": "markdown",
   "metadata": {},
   "source": [
    "<div class=\"alert alert-warning\"> Use this box for important points, reminders (yellow) </div>"
   ]
  },
  {
   "cell_type": "markdown",
   "metadata": {
    "slideshow": {
     "slide_type": "-"
    }
   },
   "source": [
    "# Setup"
   ]
  },
  {
   "cell_type": "markdown",
   "metadata": {},
   "source": [
    "## Required packages"
   ]
  },
  {
   "cell_type": "code",
   "execution_count": null,
   "metadata": {
    "ExecuteTime": {
     "end_time": "2016-07-19T17:16:32.895394",
     "start_time": "2016-07-19T17:16:29.778542"
    },
    "collapsed": false,
    "run_control": {
     "frozen": false,
     "read_only": false
    },
    "slideshow": {
     "slide_type": "-"
    }
   },
   "outputs": [],
   "source": [
    "%matplotlib inline\n",
    "from matplotlib import pyplot as plt\n",
    "import matplotlib as mpl\n",
    "import pandas as pd\n",
    "import numpy as np"
   ]
  },
  {
   "cell_type": "code",
   "execution_count": 3,
   "metadata": {
    "ExecuteTime": {
     "end_time": "2016-07-19T17:16:45.420136",
     "start_time": "2016-07-19T17:16:45.404054"
    },
    "collapsed": false,
    "run_control": {
     "frozen": false,
     "read_only": false
    }
   },
   "outputs": [
    {
     "data": {
      "application/json": {
       "Software versions": [
        {
         "module": "Python",
         "version": "2.7.12 64bit [GCC 4.2.1 (Based on Apple Inc. build 5658) (LLVM build 2336.11.00)]"
        },
        {
         "module": "IPython",
         "version": "4.2.0"
        },
        {
         "module": "OS",
         "version": "Darwin 15.5.0 x86_64 i386 64bit"
        },
        {
         "module": "numpy",
         "version": "1.11.0"
        },
        {
         "module": "matplotlib",
         "version": "1.5.1"
        },
        {
         "module": "pandas",
         "version": "0.15.1"
        }
       ]
      },
      "text/html": [
       "<table><tr><th>Software</th><th>Version</th></tr><tr><td>Python</td><td>2.7.12 64bit [GCC 4.2.1 (Based on Apple Inc. build 5658) (LLVM build 2336.11.00)]</td></tr><tr><td>IPython</td><td>4.2.0</td></tr><tr><td>OS</td><td>Darwin 15.5.0 x86_64 i386 64bit</td></tr><tr><td>numpy</td><td>1.11.0</td></tr><tr><td>matplotlib</td><td>1.5.1</td></tr><tr><td>pandas</td><td>0.15.1</td></tr><tr><td colspan='2'>Tue Jul 19 17:16:45 2016 PDT</td></tr></table>"
      ],
      "text/latex": [
       "\\begin{tabular}{|l|l|}\\hline\n",
       "{\\bf Software} & {\\bf Version} \\\\ \\hline\\hline\n",
       "Python & 2.7.12 64bit [GCC 4.2.1 (Based on Apple Inc. build 5658) (LLVM build 2336.11.00)] \\\\ \\hline\n",
       "IPython & 4.2.0 \\\\ \\hline\n",
       "OS & Darwin 15.5.0 x86\\_64 i386 64bit \\\\ \\hline\n",
       "numpy & 1.11.0 \\\\ \\hline\n",
       "matplotlib & 1.5.1 \\\\ \\hline\n",
       "pandas & 0.15.1 \\\\ \\hline\n",
       "\\hline \\multicolumn{2}{|l|}{Tue Jul 19 17:16:45 2016 PDT} \\\\ \\hline\n",
       "\\end{tabular}\n"
      ],
      "text/plain": [
       "Software versions\n",
       "Python 2.7.12 64bit [GCC 4.2.1 (Based on Apple Inc. build 5658) (LLVM build 2336.11.00)]\n",
       "IPython 4.2.0\n",
       "OS Darwin 15.5.0 x86_64 i386 64bit\n",
       "numpy 1.11.0\n",
       "matplotlib 1.5.1\n",
       "pandas 0.15.1\n",
       "Tue Jul 19 17:16:45 2016 PDT"
      ]
     },
     "execution_count": 3,
     "metadata": {},
     "output_type": "execute_result"
    }
   ],
   "source": [
    "%install_ext http://raw.github.com/jrjohansson/version_information/master/version_information.py\n",
    "%load_ext version_information\n",
    "%reload_ext version_information\n",
    "%version_information numpy, matplotlib, pandas"
   ]
  },
  {
   "cell_type": "code",
   "execution_count": 65,
   "metadata": {
    "ExecuteTime": {
     "end_time": "2016-07-13T18:10:32.982291",
     "start_time": "2016-07-13T18:10:32.975796"
    },
    "collapsed": false,
    "run_control": {
     "frozen": false,
     "read_only": false
    }
   },
   "outputs": [],
   "source": [
    "colors = ['#0055A7', '#2C3E4F', '#26C5ED', '#00cc66', \n",
    "          '#D34100', '#FF9700', '#091D32']\n",
    "mpl_update = {'font.size':16,\n",
    "              'xtick.labelsize':14,'ytick.labelsize':14,\n",
    "              'figure.figsize':[12.0, 8.0],\n",
    "              'axes.labelsize':20, 'axes.labelcolor':'#677385',\n",
    "              'axes.titlesize':20, 'lines.color':'#0055A7',\n",
    "              'lines.linewidth':3, 'text.color':'#677385'}\n",
    "mpl.rcParams.update(mpl_update)"
   ]
  },
  {
   "cell_type": "markdown",
   "metadata": {},
   "source": [
    "## Data input"
   ]
  },
  {
   "cell_type": "markdown",
   "metadata": {},
   "source": [
    "* **File:** \n",
    "* **Description of data:**\n",
    "* **Date range covered by data:** \n",
    "* **Included population:**\n",
    "* **Associated query file:** \n",
    "* **Associated query:** "
   ]
  },
  {
   "cell_type": "markdown",
   "metadata": {},
   "source": [
    "# Analysis"
   ]
  },
  {
   "cell_type": "markdown",
   "metadata": {},
   "source": [
    "# Conclusions"
   ]
  },
  {
   "cell_type": "markdown",
   "metadata": {},
   "source": [
    "## Key findings\n",
    "* Key finding 1\n",
    "* Key finding 2"
   ]
  },
  {
   "cell_type": "markdown",
   "metadata": {},
   "source": [
    "## Next steps\n",
    "* Next steps 1\n",
    "* Next steps 2"
   ]
  }
 ],
 "metadata": {
  "kernelspec": {
   "display_name": "Python 2",
   "language": "python",
   "name": "python2"
  },
  "language_info": {
   "codemirror_mode": {
    "name": "ipython",
    "version": 2
   },
   "file_extension": ".py",
   "mimetype": "text/x-python",
   "name": "python",
   "nbconvert_exporter": "python",
   "pygments_lexer": "ipython2",
   "version": "2.7.12"
  },
  "nav_menu": {},
  "toc": {
   "navigate_menu": true,
   "number_sections": true,
   "sideBar": true,
   "threshold": 6,
   "toc_cell": true,
   "toc_section_display": "block",
   "toc_window_display": true
  }
 },
 "nbformat": 4,
 "nbformat_minor": 0
}
