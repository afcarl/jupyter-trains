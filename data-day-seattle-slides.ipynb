{
 "cells": [
  {
   "cell_type": "code",
   "execution_count": 2,
   "metadata": {
    "collapsed": false,
    "run_control": {
     "frozen": false,
     "read_only": false
    },
    "scrolled": true,
    "slideshow": {
     "slide_type": "skip"
    }
   },
   "outputs": [],
   "source": [
    "%matplotlib inline\n",
    "from matplotlib import pyplot as plt\n",
    "import pandas as pd\n",
    "import numpy as np\n",
    "import cv2\n",
    "import os\n",
    "import urllib\n",
    "import datetime\n",
    "import re\n",
    "import time\n",
    "import matplotlib as mpl\n",
    "colors = ['#0055A7', '#2C3E4F', '#26C5ED', '#00cc66', \n",
    "          '#D34100', '#FF9700', '#091D32']\n",
    "mpl_update = {'font.size':16, 'xtick.labelsize':14,\n",
    "              'ytick.labelsize':14, 'figure.figsize':[12.0,8.0],\n",
    "              'axes.labelsize':20, 'axes.labelcolor':'#677385',\n",
    "              'axes.titlesize':20, 'lines.color':'#0055A7',\n",
    "              'lines.linewidth':3, 'text.color':'#677385'}\n",
    "mpl.rcParams.update(mpl_update)\n",
    "from IPython import display"
   ]
  },
  {
   "cell_type": "markdown",
   "metadata": {
    "slideshow": {
     "slide_type": "slide"
    }
   },
   "source": [
    "<img src=\"figures/svds.png\" alt=\"SVDS\" width=\"100\" align=\"right\">\n",
    "\n",
    "# Catching trains: Iterative model development with Jupyter Notebook\n",
    "\n",
    "### Data Day Seattle 2016\n",
    "\n",
    "<h3>chloe@svds.com | @chloemawer <br />\n",
    "Silicon Valley Data Science | @SVDataScience </h3>"
   ]
  },
  {
   "cell_type": "markdown",
   "metadata": {
    "slideshow": {
     "slide_type": "notes"
    }
   },
   "source": [
    "* DS\n",
    "* Mountain View, CA \n",
    "* 3 years\n",
    "* Projects with clients from lots of industries\n",
    "* Also R&D to dev new skills and give back to communtity"
   ]
  },
  {
   "cell_type": "markdown",
   "metadata": {
    "slideshow": {
     "slide_type": "slide"
    }
   },
   "source": [
    "# Agenda\n",
    "\n",
    "<img src=\"figures/agenda.png\" alt=\"Window\" align=\"left\" width=\"700\">"
   ]
  },
  {
   "cell_type": "markdown",
   "metadata": {
    "slideshow": {
     "slide_type": "notes"
    }
   },
   "source": [
    "* is a train from SF to SJ\n",
    "* Will tell about project\n",
    "* some work on a proof of concept \n",
    "* Why we usually use jupyter notebooks for such projects\n",
    "* Best practices for data c\n",
    "which for those of you who don't know, is a train that runs from San francisco down to San Jose and further. Today, I'm going to tell you a bit about our Caltrain project, some work that I did on a proof of concept and then discuss why we usually use Jupyter Notebooks for such data science projects. Then I will focus on some best practices that will allow this medium to be fully utilized for not only developing data scientists, but other data scientists who consume their work and managers and stakeholders that wish to make decisions from it, focusing on two major aspects - communication and reproducibility. Lastly, I will walk you through a Jupyter Notebook that was the product of my proof of concept work, where you'll get to see a JN in action as well as learn a little bit about motion detection. "
   ]
  },
  {
   "cell_type": "markdown",
   "metadata": {
    "slideshow": {
     "slide_type": "slide"
    }
   },
   "source": [
    "<img src=\"figures/caltrain_header.jpg\" alt=\"CaltrainHeader\" width=\"960\" height=\"200\">\n",
    "## The Caltrain obsession\n"
   ]
  },
  {
   "cell_type": "markdown",
   "metadata": {
    "slideshow": {
     "slide_type": "notes"
    }
   },
   "source": [
    "* ~50,000 weekly including many of our company\n",
    "* Long history - early meeting took place outside at happy hour (aka rush hour)\n",
    "* First office\n",
    "* Annoyed with lack of adequate predictions "
   ]
  },
  {
   "cell_type": "markdown",
   "metadata": {
    "slideshow": {
     "slide_type": "slide"
    }
   },
   "source": [
    "<center><img src=\"figures/caltrain_tweet.jpg\" alt=\"Tweet\" width=\"425\" style=\"horizontal-align:middle\"></center>"
   ]
  },
  {
   "cell_type": "markdown",
   "metadata": {
    "slideshow": {
     "slide_type": "notes"
    }
   },
   "source": [
    "* Warn Caltrain not client \n",
    "* But appreciate our work"
   ]
  },
  {
   "cell_type": "markdown",
   "metadata": {
    "slideshow": {
     "slide_type": "slide"
    }
   },
   "source": [
    "<center><img src=\"figures/appdemo.gif\" alt=\"AppScreenShots\" width=\"350\"></center>"
   ]
  },
  {
   "cell_type": "markdown",
   "metadata": {
    "slideshow": {
     "slide_type": "notes"
    }
   },
   "source": [
    "* Want to predict Caltrain delays \n",
    "* No adequate data"
   ]
  },
  {
   "cell_type": "markdown",
   "metadata": {
    "slideshow": {
     "slide_type": "slide"
    }
   },
   "source": [
    "<br />\n",
    "<br />\n",
    "<img src=\"figures/caltrain-sign.jpg\" alt=\"Window\" align=\"right\" width=\"400\">\n",
    "<br />\n",
    "\n",
    "# Did the train really leave?"
   ]
  },
  {
   "cell_type": "markdown",
   "metadata": {
    "slideshow": {
     "slide_type": "notes"
    }
   },
   "source": [
    "* Only data is that which shows up on the sign \n",
    "* Have to infer, disappearance means departure"
   ]
  },
  {
   "cell_type": "markdown",
   "metadata": {
    "slideshow": {
     "slide_type": "slide"
    }
   },
   "source": [
    "<br />\n",
    "<br />\n",
    "<img src=\"figures/train_in_window.jpg\" alt=\"Window\" align=\"right\" width=\"400\">\n",
    "<br />\n",
    "<br />\n",
    "<br />\n",
    "# Did the train really leave?\n",
    "<br />"
   ]
  },
  {
   "cell_type": "markdown",
   "metadata": {
    "slideshow": {
     "slide_type": "notes"
    }
   },
   "source": [
    "* Take advantage of location\n",
    "* Maybe we can use video to detect train and direction\n",
    "* If possible, set up Raspberry Pi in real-time \n",
    "* First step, POC to prove we should put resources into making it deployable"
   ]
  },
  {
   "cell_type": "markdown",
   "metadata": {
    "slideshow": {
     "slide_type": "slide"
    }
   },
   "source": [
    "# Proof of concept (POC)\n",
    "<br />\n",
    "<video width=\"640\" height=\"480\" controls>\n",
    "  <source src=\"video/orig.mp4\" type=\"video/mp4\">\n",
    "</video>"
   ]
  },
  {
   "cell_type": "markdown",
   "metadata": {
    "slideshow": {
     "slide_type": "notes"
    }
   },
   "source": [
    "* A while ago, set out to develop a PoC to see if this would be worth setting up"
   ]
  },
  {
   "cell_type": "markdown",
   "metadata": {
    "slideshow": {
     "slide_type": "slide"
    }
   },
   "source": [
    "# Proof of concept\n",
    "* Fast, iterative development\n",
    "* Record of prior work\n",
    "* Easy QA/feedback\n",
    "* Communication of results for decision making \n",
    "* Base of work for team to iterate from\n",
    "* Educational material \n",
    "* Easy repurposing "
   ]
  },
  {
   "cell_type": "markdown",
   "metadata": {
    "slideshow": {
     "slide_type": "notes"
    }
   },
   "source": [
    "* What I want in developing a PoC like this or those for clients is"
   ]
  },
  {
   "cell_type": "markdown",
   "metadata": {
    "slideshow": {
     "slide_type": "slide"
    }
   },
   "source": [
    "<center><img src=\"figures/jupyterplus.svg\" alt=\"Jupyter\" width=\"450\"></center>\n"
   ]
  },
  {
   "cell_type": "markdown",
   "metadata": {
    "slideshow": {
     "slide_type": "slide"
    }
   },
   "source": [
    "<img src=\"figures/jupyter.png\" alt=\"Jupyter\" width=\"250\" align='right'>\n",
    "<br />\n",
    "# Jupyter notebook "
   ]
  },
  {
   "cell_type": "markdown",
   "metadata": {
    "slideshow": {
     "slide_type": "-"
    }
   },
   "source": [
    "* Born in 2011 as the IPython Notebook\n",
    "* Browser-based interactive web app for creating documents with\n",
    "    * Live code\n",
    "    * Explanatory text\n",
    "    * Visualizations\n",
    "    * Equations\n",
    "* Three cell types\n",
    "    * Code\n",
    "    * Markdown and latex\n",
    "    * Straight html\n"
   ]
  },
  {
   "cell_type": "markdown",
   "metadata": {
    "slideshow": {
     "slide_type": "slide"
    }
   },
   "source": [
    "<img src=\"figures/jupyter.png\" alt=\"Jupyter\" width=\"250\" align='right'>\n",
    "<br />\n",
    "# Jupyter notebook "
   ]
  },
  {
   "cell_type": "markdown",
   "metadata": {
    "slideshow": {
     "slide_type": "-"
    }
   },
   "source": [
    "* In 2014, moved to Jupyter project \n",
    "* Supports over 40 programming languages including:\n",
    "    * Python\n",
    "    * R\n",
    "    * Julia\n",
    "    * Scala"
   ]
  },
  {
   "cell_type": "markdown",
   "metadata": {
    "slideshow": {
     "slide_type": "slide"
    }
   },
   "source": [
    "# Why use the Jupyter Notebook? \n",
    "* Aligns with how we think \n",
    "* Documentation, code, figures, and results combined\n",
    "* Immediate feedback during development \n",
    "* Html, pdf, markdown, slide output options\n",
    "* Reduces the content creation necessary for communication to other parties"
   ]
  },
  {
   "cell_type": "markdown",
   "metadata": {
    "slideshow": {
     "slide_type": "slide"
    }
   },
   "source": [
    "# Jupyter notebook for everyone"
   ]
  },
  {
   "cell_type": "markdown",
   "metadata": {
    "slideshow": {
     "slide_type": "notes"
    }
   },
   "source": [
    "For these reasons, jupyter notebook becomes an effective development medium for not only the developin gdata scientist, but also others he/she works with as well as the stakeholders and managers that consume their work. "
   ]
  },
  {
   "cell_type": "markdown",
   "metadata": {
    "collapsed": true,
    "run_control": {
     "frozen": false,
     "read_only": false
    },
    "slideshow": {
     "slide_type": "slide"
    }
   },
   "source": [
    "# Me, me, me"
   ]
  },
  {
   "cell_type": "markdown",
   "metadata": {
    "slideshow": {
     "slide_type": "notes"
    }
   },
   "source": [
    "* Quickly iterate\n",
    "* Easily recall where certain results occurred\n",
    "* Streamline process\n",
    "* Reproduce"
   ]
  },
  {
   "cell_type": "markdown",
   "metadata": {
    "slideshow": {
     "slide_type": "notes"
    }
   },
   "source": [
    "If properly used, Jupyter notebooks can for data scientists:\n",
    "* Maximize productivity\n",
    "* Increase learnings\n",
    "* Reduce documentation"
   ]
  },
  {
   "cell_type": "markdown",
   "metadata": {
    "slideshow": {
     "slide_type": "slide"
    }
   },
   "source": [
    "# Others like me"
   ]
  },
  {
   "cell_type": "markdown",
   "metadata": {
    "slideshow": {
     "slide_type": "notes"
    }
   },
   "source": [
    "* QA\n",
    "* Learn\n",
    "* Reproduce\n",
    "* Reuse "
   ]
  },
  {
   "cell_type": "markdown",
   "metadata": {
    "slideshow": {
     "slide_type": "notes"
    }
   },
   "source": [
    "For other data scientists: \n",
    "* Serve as learning materials\n",
    "* Allow easier QA \n",
    "* Provide starting work for new projects "
   ]
  },
  {
   "cell_type": "markdown",
   "metadata": {
    "slideshow": {
     "slide_type": "slide"
    }
   },
   "source": [
    "# Not me"
   ]
  },
  {
   "cell_type": "markdown",
   "metadata": {
    "slideshow": {
     "slide_type": "notes"
    }
   },
   "source": [
    "* Make decisions\n",
    "* Assess value "
   ]
  },
  {
   "cell_type": "markdown",
   "metadata": {
    "slideshow": {
     "slide_type": "notes"
    }
   },
   "source": [
    "For managers: \n",
    "* Serve as a medium to make decisions from \n",
    "* Create a knowledge base that will lead to \n",
    "    * Onboarding and training materials\n",
    "    * Faster analysis \n",
    "    * Higher quality work"
   ]
  },
  {
   "cell_type": "markdown",
   "metadata": {
    "slideshow": {
     "slide_type": "slide"
    }
   },
   "source": [
    "# Basic requirements\n",
    "* Clear communication\n",
    "* Reproduciblility "
   ]
  },
  {
   "cell_type": "markdown",
   "metadata": {
    "slideshow": {
     "slide_type": "fragment"
    }
   },
   "source": [
    "# To enable:\n",
    "* Streamlined scientific process\n",
    "* Reusability\n",
    "* Decision making\n",
    "* QA "
   ]
  },
  {
   "cell_type": "markdown",
   "metadata": {
    "slideshow": {
     "slide_type": "slide"
    }
   },
   "source": [
    "# Communication"
   ]
  },
  {
   "cell_type": "markdown",
   "metadata": {
    "slideshow": {
     "slide_type": "slide"
    }
   },
   "source": [
    "# Communicating to future me\n",
    "* Why did you do that? \n",
    "* What will you want to remember later on?\n",
    "* What didn't work? Why not? \n",
    "* What did I learn here? \n",
    "* What are my next steps? "
   ]
  },
  {
   "cell_type": "markdown",
   "metadata": {
    "slideshow": {
     "slide_type": "slide"
    }
   },
   "source": [
    "# Communicating to other data scientists\n",
    "* What were the limitations of this analysis? \n",
    "* What assumptions were made? \n",
    "* What choices were made and why? "
   ]
  },
  {
   "cell_type": "markdown",
   "metadata": {
    "slideshow": {
     "slide_type": "slide"
    }
   },
   "source": [
    "# Communicating to non-data scientists\n",
    "* Who? \n",
    "* When?\n",
    "* Why is this important? \n",
    "* What should the audience known when communicating this work to others?"
   ]
  },
  {
   "cell_type": "markdown",
   "metadata": {
    "slideshow": {
     "slide_type": "slide"
    }
   },
   "source": [
    "# Template and automate"
   ]
  },
  {
   "cell_type": "raw",
   "metadata": {
    "slideshow": {
     "slide_type": "fragment"
    }
   },
   "source": [
    "<br />\n",
    "<iframe src=\"data-day-seattle-template-demo.html\" width=\"960\" height=\"500\"></iframe>"
   ]
  },
  {
   "cell_type": "markdown",
   "metadata": {
    "slideshow": {
     "slide_type": "slide"
    }
   },
   "source": [
    "# Template and automate"
   ]
  },
  {
   "cell_type": "markdown",
   "metadata": {
    "slideshow": {
     "slide_type": "-"
    }
   },
   "source": [
    "In `.bashrc` file: \n",
    "\n",
    "`newnb (){cp /path/to/template/template.ipynb $(date +\"%Y-%m-%d\")-initials-$1.ipynb}`\n",
    "\n",
    "`newnb data-day-seattle-demo` results in a file: `2016-07-23-cmm-data-day-seattle-demo.ipynb`"
   ]
  },
  {
   "cell_type": "markdown",
   "metadata": {
    "slideshow": {
     "slide_type": "slide"
    }
   },
   "source": [
    "# Call out boxes"
   ]
  },
  {
   "cell_type": "markdown",
   "metadata": {
    "slideshow": {
     "slide_type": "fragment"
    }
   },
   "source": [
    "<br />\n",
    "<img src=\"figures/alert-boxes.png\" alt=\"CaltrainHeader\" width=\"960\" height=\"200\">"
   ]
  },
  {
   "cell_type": "markdown",
   "metadata": {
    "slideshow": {
     "slide_type": "notes"
    }
   },
   "source": [
    "Mention ability to process html, markdown"
   ]
  },
  {
   "cell_type": "markdown",
   "metadata": {
    "slideshow": {
     "slide_type": "slide"
    }
   },
   "source": [
    "# ToC2 Extension"
   ]
  },
  {
   "cell_type": "markdown",
   "metadata": {},
   "source": [
    "<br />\n",
    "<img src=\"figures/toc.png\" alt=\"CaltrainHeader\" width=\"960\" height=\"200\">"
   ]
  },
  {
   "cell_type": "markdown",
   "metadata": {
    "slideshow": {
     "slide_type": "notes"
    }
   },
   "source": [
    "What are extensions? "
   ]
  },
  {
   "cell_type": "markdown",
   "metadata": {
    "slideshow": {
     "slide_type": "slide"
    }
   },
   "source": [
    "# Hiding code"
   ]
  },
  {
   "cell_type": "raw",
   "metadata": {
    "slideshow": {
     "slide_type": "-"
    }
   },
   "source": [
    "<br />\n",
    "<iframe src=\"data-day-seattle-template-demo.html\" width=\"960\" height=\"500\"></iframe>"
   ]
  },
  {
   "cell_type": "markdown",
   "metadata": {
    "slideshow": {
     "slide_type": "slide"
    }
   },
   "source": [
    "# Hiding code"
   ]
  },
  {
   "cell_type": "raw",
   "metadata": {
    "slideshow": {
     "slide_type": "-"
    }
   },
   "source": [
    "<pre> &lt;script&gt;\n",
    "code_show=true; \n",
    "function code_toggle() {\n",
    " if (code_show){\n",
    " $(&#039div.input&#039).hide();\n",
    " } else {\n",
    " $(&#039div.input&#039).show();\n",
    " }\n",
    " code_show = !code_show\n",
    "} \n",
    "$( document ).ready(code_toggle);\n",
    "&lt;/script&gt;\n",
    "&lt;form action=&quot;javascript:code_toggle()&quot;&gt;\n",
    "&lt;input type=&quot;submit&quot; value=&quot;Click here to toggle on/off the raw code.&quot;&gt;&lt;/form&gt; </pre>"
   ]
  },
  {
   "cell_type": "markdown",
   "metadata": {
    "slideshow": {
     "slide_type": "slide"
    }
   },
   "source": [
    "# Keep everything connected"
   ]
  },
  {
   "cell_type": "markdown",
   "metadata": {},
   "source": [
    "<br />\n",
    "<img src=\"figures/related-nbs.png\" alt=\"CaltrainHeader\" width=\"560\">"
   ]
  },
  {
   "cell_type": "markdown",
   "metadata": {
    "slideshow": {
     "slide_type": "slide"
    }
   },
   "source": [
    "# Knowing when to stop"
   ]
  },
  {
   "cell_type": "markdown",
   "metadata": {
    "slideshow": {
     "slide_type": "slide"
    }
   },
   "source": [
    "# Reproducibility"
   ]
  },
  {
   "cell_type": "markdown",
   "metadata": {
    "slideshow": {
     "slide_type": "slide"
    }
   },
   "source": [
    "# Environment\n",
    "* `requirements.txt`\n",
    "* Docker container\n",
    "* List packages"
   ]
  },
  {
   "cell_type": "markdown",
   "metadata": {},
   "source": [
    "<img src=\"figures/packages.png\" alt=\"CaltrainHeader\" width=\"960\" height=\"200\">"
   ]
  },
  {
   "cell_type": "markdown",
   "metadata": {
    "slideshow": {
     "slide_type": "slide"
    }
   },
   "source": [
    "# The Data"
   ]
  },
  {
   "cell_type": "markdown",
   "metadata": {},
   "source": [
    "<br />\n",
    "<img src=\"figures/data-input.png\" alt=\"CaltrainHeader\" width=\"960\" height=\"200\">"
   ]
  },
  {
   "cell_type": "markdown",
   "metadata": {
    "slideshow": {
     "slide_type": "slide"
    }
   },
   "source": [
    "# Analysis is never linear, but code is"
   ]
  },
  {
   "cell_type": "markdown",
   "metadata": {
    "slideshow": {
     "slide_type": "notes"
    }
   },
   "source": [
    "* Code won't know that you ran all of this and then added something up above. \n",
    "* Don't go and add things nilly willy above where you are. \n",
    "* Consider inputs and outputs of each stage of your analysis. "
   ]
  },
  {
   "cell_type": "markdown",
   "metadata": {
    "slideshow": {
     "slide_type": "slide"
    }
   },
   "source": [
    "# Think before you add any code above"
   ]
  },
  {
   "cell_type": "markdown",
   "metadata": {
    "slideshow": {
     "slide_type": "slide"
    }
   },
   "source": [
    "# Don't delete"
   ]
  },
  {
   "cell_type": "markdown",
   "metadata": {
    "slideshow": {
     "slide_type": "slide"
    }
   },
   "source": [
    "# Scratch Pad Extension\n",
    "<img src=\"figures/scratchpad.gif\" alt=\"Scratchpad\" width=\"600\" align='left'>\n"
   ]
  },
  {
   "cell_type": "markdown",
   "metadata": {
    "slideshow": {
     "slide_type": "slide"
    }
   },
   "source": [
    "# ExecuteTime Extension\n",
    "\n",
    "<center><img src=\"figures/executetime.png\" alt=\"End\" width=\"960\"></center>\n"
   ]
  },
  {
   "cell_type": "markdown",
   "metadata": {
    "slideshow": {
     "slide_type": "slide"
    }
   },
   "source": [
    "# Pay attention to inputs and outputs"
   ]
  },
  {
   "cell_type": "markdown",
   "metadata": {
    "slideshow": {
     "slide_type": "-"
    }
   },
   "source": [
    "<img src=\"figures/inout1.png\" alt=\"End\" width=\"160\" align=\"right\">\n",
    "<img src=\"figures/inout2.png\" alt=\"End\" width=\"160\" align=\"left\">\n"
   ]
  },
  {
   "cell_type": "markdown",
   "metadata": {
    "slideshow": {
     "slide_type": "slide"
    }
   },
   "source": [
    "# Pay attention to inputs and outputs\n",
    "<center><img src=\"figures/dag.png\" alt=\"End\" width=\"360\" align=\"center\"></center>\n"
   ]
  },
  {
   "cell_type": "markdown",
   "metadata": {
    "slideshow": {
     "slide_type": "slide"
    }
   },
   "source": [
    "# Lastly... know when to get out of the notebook"
   ]
  },
  {
   "cell_type": "markdown",
   "metadata": {
    "slideshow": {
     "slide_type": "slide"
    }
   },
   "source": [
    "# DEMO"
   ]
  },
  {
   "cell_type": "markdown",
   "metadata": {
    "slideshow": {
     "slide_type": "slide"
    }
   },
   "source": [
    "# Conclusions"
   ]
  },
  {
   "cell_type": "markdown",
   "metadata": {
    "collapsed": true,
    "slideshow": {
     "slide_type": "slide"
    }
   },
   "source": [
    "<center><h4>To view SVDS speakers or to receive a copy <br /> of our slides, go to: www.svds.com/DDSea2016 </h4></center>\n",
    "<center><img src=\"figures/thankyou.png\" alt=\"End\" width=\"700\"></center>\n",
    "<center><h3>chloe@svds.com | @chloemawer  </h3></center>\n"
   ]
  }
 ],
 "metadata": {
  "celltoolbar": "Slideshow",
  "kernelspec": {
   "display_name": "Python 2",
   "language": "python",
   "name": "python2"
  },
  "language_info": {
   "codemirror_mode": {
    "name": "ipython",
    "version": 2
   },
   "file_extension": ".py",
   "mimetype": "text/x-python",
   "name": "python",
   "nbconvert_exporter": "python",
   "pygments_lexer": "ipython2",
   "version": "2.7.12"
  },
  "nav_menu": {},
  "toc": {
   "navigate_menu": true,
   "number_sections": false,
   "sideBar": true,
   "threshold": 6,
   "toc_cell": false,
   "toc_section_display": "none",
   "toc_window_display": false
  }
 },
 "nbformat": 4,
 "nbformat_minor": 0
}
